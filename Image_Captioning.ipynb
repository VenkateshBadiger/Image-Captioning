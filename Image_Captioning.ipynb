{
  "cells": [
    {
      "cell_type": "markdown",
      "id": "solar-indonesian",
      "metadata": {
        "id": "solar-indonesian"
      },
      "source": [
        "### Image Captioning\n",
        "- Converting Image to a text.\n",
        "    - Works as visual Aid for blind people."
      ]
    },
    {
      "cell_type": "code",
      "execution_count": null,
      "id": "increased-kinase",
      "metadata": {
        "id": "increased-kinase"
      },
      "outputs": [],
      "source": [
        "import pandas as pd\n",
        "import numpy as np\n",
        "import matplotlib.pyplot as plt\n",
        "import keras\n",
        "import re\n",
        "import nltk\n",
        "from nltk.corpus import stopwords\n",
        "import string\n",
        "import json\n",
        "from time import time\n",
        "import pickle\n",
        "from keras.applications.vgg16 import VGG16\n",
        "from keras.applications.resnet50 import ResNet50, preprocess_input, decode_predictions\n",
        "from keras.preprocessing import image\n",
        "from keras.models import Model, load_model\n",
        "from keras.preprocessing.sequence import pad_sequences\n",
        "from keras.utils import to_categorical\n",
        "from keras.layers import Input, Dense, Dropout, Embedding, LSTM\n",
        "from keras.layers.merge import add"
      ]
    },
    {
      "cell_type": "code",
      "execution_count": null,
      "id": "monetary-drama",
      "metadata": {
        "id": "monetary-drama",
        "outputId": "13820936-30ff-46cd-926d-1ab1c09ce507"
      },
      "outputs": [
        {
          "name": "stdout",
          "output_type": "stream",
          "text": [
            " Volume in drive C is OS\n",
            " Volume Serial Number is 8ADB-680F\n",
            "\n",
            " Directory of C:\\Users\\dell\\Desktop\\Machine Learning\\Project Image Captioning\n",
            "\n",
            "13-03-2021  19:44    <DIR>          .\n",
            "13-03-2021  19:44    <DIR>          ..\n",
            "11-03-2021  15:05    <DIR>          .ipynb_checkpoints\n",
            "08-03-2021  04:31     1,112,971,163 archive.zip\n",
            "08-03-2021  10:50    <DIR>          dataset\n",
            "10-03-2021  15:55         2,311,419 descriptions_1.txt\n",
            "10-03-2021  15:39        13,127,425 encoded_test_features.pkl\n",
            "10-03-2021  15:39        53,631,791 encoded_train_features.pkl\n",
            "08-03-2021  11:22             9,633 f1.GIF\n",
            "08-03-2021  14:40             7,998 f2.GIF\n",
            "08-03-2021  14:50            50,786 f3.GIF\n",
            "08-03-2021  18:11             7,041 f4.GIF\n",
            "08-03-2021  18:19            34,324 f5.GIF\n",
            "08-03-2021  18:22            84,717 f6.png\n",
            "08-03-2021  18:30           271,827 f7.png\n",
            "08-03-2021  18:34           196,639 f8.png\n",
            "13-03-2021  19:42         1,145,844 Image Captioning .ipynb\n",
            "13-03-2021  19:44            44,652 model.png\n",
            "08-03-2021  19:16    <DIR>          model_weights\n",
            "10-03-2021  16:25    <DIR>          saved\n",
            "              14 File(s)  1,183,895,259 bytes\n",
            "               6 Dir(s)  741,436,325,888 bytes free\n"
          ]
        }
      ],
      "source": [
        "!dir"
      ]
    },
    {
      "cell_type": "code",
      "execution_count": null,
      "id": "compound-night",
      "metadata": {
        "id": "compound-night"
      },
      "outputs": [],
      "source": [
        "# read text captions\n",
        "\n",
        "def readTextFile(path):\n",
        "    with open(path) as f:\n",
        "        caption = f.read()\n",
        "    return caption"
      ]
    },
    {
      "cell_type": "code",
      "execution_count": null,
      "id": "lyric-basics",
      "metadata": {
        "id": "lyric-basics"
      },
      "outputs": [],
      "source": [
        "captions = readTextFile('./dataset/captions.txt')"
      ]
    },
    {
      "cell_type": "code",
      "execution_count": null,
      "id": "related-abuse",
      "metadata": {
        "scrolled": true,
        "id": "related-abuse"
      },
      "outputs": [],
      "source": [
        "captions = captions.split('\\n')[:-1]"
      ]
    },
    {
      "cell_type": "code",
      "execution_count": null,
      "id": "still-money",
      "metadata": {
        "id": "still-money",
        "outputId": "ffee8c70-1c20-4cc2-f2db-a9b6d8741fb5"
      },
      "outputs": [
        {
          "data": {
            "text/plain": [
              "'1042020065_fb3d3ba5ba.jpg,A boy in a green shirt watches kayakers .'"
            ]
          },
          "execution_count": 7,
          "metadata": {},
          "output_type": "execute_result"
        }
      ],
      "source": [
        "captions[161]"
      ]
    },
    {
      "cell_type": "code",
      "execution_count": null,
      "id": "hispanic-fairy",
      "metadata": {
        "id": "hispanic-fairy"
      },
      "outputs": [],
      "source": [
        "desc = {}\n",
        "\n",
        "for x in captions:\n",
        "    zyzz = x.split(',')\n",
        "    img_name,img_captions= zyzz[0],zyzz[1]\n",
        "\n",
        "    if desc.get(img_name) is None:\n",
        "        desc[img_name] = []\n",
        "    desc[img_name].append(img_captions)\n"
      ]
    },
    {
      "cell_type": "code",
      "execution_count": null,
      "id": "understood-thanksgiving",
      "metadata": {
        "id": "understood-thanksgiving",
        "outputId": "085655b9-0a20-400b-878e-28aa72014cc3"
      },
      "outputs": [
        {
          "data": {
            "text/plain": [
              "['A child in a pink dress is climbing up a set of stairs in an entry way .',\n",
              " 'A girl going into a wooden building .',\n",
              " 'A little girl climbing into a wooden playhouse .',\n",
              " 'A little girl climbing the stairs to her playhouse .',\n",
              " 'A little girl in a pink dress going into a wooden cabin .']"
            ]
          },
          "execution_count": 9,
          "metadata": {},
          "output_type": "execute_result"
        }
      ],
      "source": [
        "desc['1000268201_693b08cb0e.jpg']"
      ]
    },
    {
      "cell_type": "code",
      "execution_count": null,
      "id": "special-colors",
      "metadata": {
        "id": "special-colors"
      },
      "outputs": [],
      "source": [
        "import cv2"
      ]
    },
    {
      "cell_type": "code",
      "execution_count": null,
      "id": "incident-belize",
      "metadata": {
        "scrolled": true,
        "id": "incident-belize",
        "outputId": "649e8492-9b60-4844-e235-67d439362afe"
      },
      "outputs": [
        {
          "data": {
            "image/png": "[encoded data removed]",
            "text/plain": [
              "<Figure size 432x288 with 1 Axes>"
            ]
          },
          "metadata": {
            "needs_background": "light"
          },
          "output_type": "display_data"
        },
        {
          "data": {
            "text/plain": [
              "['A boy in a green shirt is looking down at many inflatable boats .',\n",
              " 'A boy in a green shirt watches kayakers .',\n",
              " 'A boy looks over a railing at the many boats and rafts below in the water .',\n",
              " 'A young boy overlooking a crowd of inflatable boats .',\n",
              " 'A young boy wearing a jersey looks down over a ledge at many boats in the water .']"
            ]
          },
          "execution_count": 11,
          "metadata": {},
          "output_type": "execute_result"
        }
      ],
      "source": [
        "path = './dataset/images/1042020065_fb3d3ba5ba.jpg'\n",
        "plt.imshow(cv2.imread(path))\n",
        "plt.show()\n",
        "desc['1042020065_fb3d3ba5ba.jpg']"
      ]
    },
    {
      "cell_type": "markdown",
      "id": "false-howard",
      "metadata": {
        "id": "false-howard"
      },
      "source": [
        "### Data Cleaning\n",
        "**HERE**\n",
        "- Do not remove stopwords\n",
        "- Do not stemming\n",
        "- Remove numbers, punctuations\n",
        "\n",
        "$X \\rightarrow MODEL \\rightarrow \\textbf{Dense layer with soft max}\\rightarrow vector[\\textbf{probability distribution of each word}]$"
      ]
    },
    {
      "cell_type": "code",
      "execution_count": null,
      "id": "thorough-rainbow",
      "metadata": {
        "id": "thorough-rainbow"
      },
      "outputs": [],
      "source": [
        "import re"
      ]
    },
    {
      "cell_type": "code",
      "execution_count": null,
      "id": "secure-calculation",
      "metadata": {
        "id": "secure-calculation"
      },
      "outputs": [],
      "source": [
        "def clean_text(sentence):\n",
        "    sentence = sentence.lower()\n",
        "    sentence = re.sub('[^a-z]+',' ', sentence)\n",
        "    sentence = sentence.split()\n",
        "    sentence = [s for s in sentence if len(s) > 1]\n",
        "    sentence = ' '.join(sentence)\n",
        "    return sentence"
      ]
    },
    {
      "cell_type": "code",
      "execution_count": null,
      "id": "cultural-royal",
      "metadata": {
        "id": "cultural-royal"
      },
      "outputs": [],
      "source": [
        "# clean all captions"
      ]
    },
    {
      "cell_type": "code",
      "execution_count": null,
      "id": "found-aquarium",
      "metadata": {
        "id": "found-aquarium"
      },
      "outputs": [],
      "source": [
        "for key, caption_list in desc.items():\n",
        "    for i in range(len(caption_list)):\n",
        "        caption_list[i] = clean_text(caption_list[i])"
      ]
    },
    {
      "cell_type": "code",
      "execution_count": null,
      "id": "suited-heather",
      "metadata": {
        "id": "suited-heather",
        "outputId": "db69eff3-0cf9-43df-9c23-c5e9f8c4cb7f"
      },
      "outputs": [
        {
          "data": {
            "text/plain": [
              "['boy in green shirt is looking down at many inflatable boats',\n",
              " 'boy in green shirt watches kayakers',\n",
              " 'boy looks over railing at the many boats and rafts below in the water',\n",
              " 'young boy overlooking crowd of inflatable boats',\n",
              " 'young boy wearing jersey looks down over ledge at many boats in the water']"
            ]
          },
          "execution_count": 16,
          "metadata": {},
          "output_type": "execute_result"
        }
      ],
      "source": [
        "desc['1042020065_fb3d3ba5ba.jpg']"
      ]
    },
    {
      "cell_type": "code",
      "execution_count": null,
      "id": "higher-brisbane",
      "metadata": {
        "id": "higher-brisbane"
      },
      "outputs": [],
      "source": [
        "# write the data to text file\n",
        "with open('./dataset/description.txt','w') as f:\n",
        "    f.write(str(desc))\n"
      ]
    },
    {
      "cell_type": "markdown",
      "id": "beneficial-cursor",
      "metadata": {
        "id": "beneficial-cursor"
      },
      "source": [
        "### Vocabulary\n",
        "- It is a set of all possible unique words that model can predict."
      ]
    },
    {
      "cell_type": "code",
      "execution_count": null,
      "id": "coordinated-library",
      "metadata": {
        "id": "coordinated-library"
      },
      "outputs": [],
      "source": [
        "import json"
      ]
    },
    {
      "cell_type": "code",
      "execution_count": null,
      "id": "spiritual-current",
      "metadata": {
        "id": "spiritual-current"
      },
      "outputs": [],
      "source": [
        "descriptions = None\n",
        "with open('./dataset/description.txt') as f:\n",
        "    descriptions = f.read()\n",
        "json_acceptable_string = descriptions.replace(\"'\",\"\\\"\")\n",
        "descriptions = json.loads(json_acceptable_string)"
      ]
    },
    {
      "cell_type": "code",
      "execution_count": null,
      "id": "fancy-employment",
      "metadata": {
        "id": "fancy-employment"
      },
      "outputs": [],
      "source": [
        "#descriptions"
      ]
    },
    {
      "cell_type": "code",
      "execution_count": null,
      "id": "decimal-wedding",
      "metadata": {
        "id": "decimal-wedding",
        "outputId": "e2df6cf3-829a-4601-9905-3d9d856f0c84"
      },
      "outputs": [
        {
          "name": "stdout",
          "output_type": "stream",
          "text": [
            "<class 'dict'>\n"
          ]
        }
      ],
      "source": [
        "print(type(descriptions))"
      ]
    },
    {
      "cell_type": "code",
      "execution_count": null,
      "id": "animated-lodge",
      "metadata": {
        "id": "animated-lodge",
        "outputId": "7f4ac27f-c065-4095-fb4d-16db0d8d10fb"
      },
      "outputs": [
        {
          "data": {
            "text/plain": [
              "['boy in green shirt is looking down at many inflatable boats',\n",
              " 'boy in green shirt watches kayakers',\n",
              " 'boy looks over railing at the many boats and rafts below in the water',\n",
              " 'young boy overlooking crowd of inflatable boats',\n",
              " 'young boy wearing jersey looks down over ledge at many boats in the water']"
            ]
          },
          "execution_count": 22,
          "metadata": {},
          "output_type": "execute_result"
        }
      ],
      "source": [
        "descriptions.get('1042020065_fb3d3ba5ba.jpg')"
      ]
    },
    {
      "cell_type": "code",
      "execution_count": null,
      "id": "earned-macro",
      "metadata": {
        "id": "earned-macro",
        "outputId": "1b6123c3-2119-42fa-b2a6-0540803542c9"
      },
      "outputs": [
        {
          "name": "stdout",
          "output_type": "stream",
          "text": [
            "Vocab Size(unique words In Vocab) : 8257\n"
          ]
        }
      ],
      "source": [
        "# Vocab\n",
        "\n",
        "vocab = set()\n",
        "for key in descriptions.keys():\n",
        "    [vocab.update(sentence.split()) for sentence in descriptions[key]]\n",
        "\n",
        "print(\"Vocab Size(unique words In Vocab) : %d\"% len(vocab))"
      ]
    },
    {
      "cell_type": "code",
      "execution_count": null,
      "id": "accredited-agreement",
      "metadata": {
        "id": "accredited-agreement",
        "outputId": "54a818c3-5b9e-493d-8c7c-8962b710ab6e"
      },
      "outputs": [
        {
          "name": "stdout",
          "output_type": "stream",
          "text": [
            "{'apple', 'hi', 'hello'}\n"
          ]
        }
      ],
      "source": [
        "vocab = set()\n",
        "vocab.update([\"hello\", \"apple\"])\n",
        "vocab.update([\"hello\"])\n",
        "vocab.update([\"hi\"])\n",
        "print(vocab)"
      ]
    },
    {
      "cell_type": "code",
      "execution_count": null,
      "id": "numerical-central",
      "metadata": {
        "id": "numerical-central",
        "outputId": "9046cf96-fcf2-4e23-8edb-c62dd555542b"
      },
      "outputs": [
        {
          "data": {
            "text/plain": [
              "['boy in green shirt is looking down at many inflatable boats',\n",
              " 'boy in green shirt watches kayakers',\n",
              " 'boy looks over railing at the many boats and rafts below in the water',\n",
              " 'young boy overlooking crowd of inflatable boats',\n",
              " 'young boy wearing jersey looks down over ledge at many boats in the water']"
            ]
          },
          "execution_count": 25,
          "metadata": {},
          "output_type": "execute_result"
        }
      ],
      "source": [
        "descriptions.get('1042020065_fb3d3ba5ba.jpg')"
      ]
    },
    {
      "cell_type": "code",
      "execution_count": null,
      "id": "olympic-secret",
      "metadata": {
        "id": "olympic-secret",
        "outputId": "5365c0fd-e4a3-4b83-c9e9-fe148280359a"
      },
      "outputs": [
        {
          "name": "stdout",
          "output_type": "stream",
          "text": [
            "Total Words 357791\n"
          ]
        }
      ],
      "source": [
        "# Total No of words across all the sentences\n",
        "total_words = []\n",
        "\n",
        "for key in descriptions.keys():\n",
        "    [total_words.append(i) for des in descriptions[key] for i in des.split()]\n",
        "\n",
        "print(\"Total Words %d\"%len(total_words))\n"
      ]
    },
    {
      "cell_type": "code",
      "execution_count": null,
      "id": "automatic-orbit",
      "metadata": {
        "id": "automatic-orbit",
        "outputId": "3b493e6b-3cc8-437a-90e3-9c55bf1d2c4e"
      },
      "outputs": [
        {
          "data": {
            "text/plain": [
              "(357791, list)"
            ]
          },
          "execution_count": 27,
          "metadata": {},
          "output_type": "execute_result"
        }
      ],
      "source": [
        "len(total_words), type(total_words)"
      ]
    },
    {
      "cell_type": "code",
      "execution_count": null,
      "id": "hollywood-stream",
      "metadata": {
        "id": "hollywood-stream"
      },
      "outputs": [],
      "source": [
        "# filter words from vocab according to certain threshold frequency"
      ]
    },
    {
      "cell_type": "code",
      "execution_count": null,
      "id": "independent-provision",
      "metadata": {
        "id": "independent-provision",
        "outputId": "5ce81c05-17ab-4470-9be0-ec9d524baa99"
      },
      "outputs": [
        {
          "name": "stdout",
          "output_type": "stream",
          "text": [
            "8257\n"
          ]
        }
      ],
      "source": [
        "import collections\n",
        "counter = collections.Counter(total_words)\n",
        "frq_cnt = dict(counter)\n",
        "print(len(frq_cnt.keys()))\n",
        "# print(frq_cnt)"
      ]
    },
    {
      "cell_type": "code",
      "execution_count": null,
      "id": "driven-liverpool",
      "metadata": {
        "id": "driven-liverpool"
      },
      "outputs": [],
      "source": [
        "# sort the dictionary according to the freq count\n",
        "\n",
        "sorted_freq_cnt = sorted(frq_cnt.items(), reverse = True, key=lambda x:x[1])\n",
        "\n",
        "# filter\n",
        "threshold =  10\n",
        "sorted_freq_cnt = [x for x in sorted_freq_cnt if x[1]>threshold]\n",
        "total_words = [x[0] for x in sorted_freq_cnt]"
      ]
    },
    {
      "cell_type": "code",
      "execution_count": null,
      "id": "needed-texture",
      "metadata": {
        "id": "needed-texture"
      },
      "outputs": [],
      "source": [
        "#sorted_freq_cnt"
      ]
    },
    {
      "cell_type": "code",
      "execution_count": null,
      "id": "patent-think",
      "metadata": {
        "id": "patent-think",
        "outputId": "f1baca21-b644-430b-b036-67e6a54bcbf6"
      },
      "outputs": [
        {
          "name": "stdout",
          "output_type": "stream",
          "text": [
            "1800\n"
          ]
        }
      ],
      "source": [
        "print(len(total_words)) # 1800 unique words filter, this is going to be new vocab size"
      ]
    },
    {
      "cell_type": "code",
      "execution_count": null,
      "id": "weekly-fundamentals",
      "metadata": {
        "id": "weekly-fundamentals",
        "outputId": "acc570fe-3d46-4023-92a9-8472b7ca6072"
      },
      "outputs": [
        {
          "data": {
            "text/plain": [
              "['boy in green shirt is looking down at many inflatable boats',\n",
              " 'boy in green shirt watches kayakers',\n",
              " 'boy looks over railing at the many boats and rafts below in the water',\n",
              " 'young boy overlooking crowd of inflatable boats',\n",
              " 'young boy wearing jersey looks down over ledge at many boats in the water']"
            ]
          },
          "execution_count": 33,
          "metadata": {},
          "output_type": "execute_result"
        }
      ],
      "source": [
        "descriptions.get('1042020065_fb3d3ba5ba.jpg')"
      ]
    },
    {
      "cell_type": "markdown",
      "id": "touched-folder",
      "metadata": {
        "id": "touched-folder"
      },
      "source": [
        "### Train/Test Data"
      ]
    },
    {
      "cell_type": "code",
      "execution_count": null,
      "id": "personal-camping",
      "metadata": {
        "scrolled": true,
        "id": "personal-camping",
        "outputId": "dd6a7155-7494-4c88-95f7-f9aa7b1c4a38"
      },
      "outputs": [
        {
          "data": {
            "text/plain": [
              "(8091, 8091)"
            ]
          },
          "execution_count": 34,
          "metadata": {},
          "output_type": "execute_result"
        }
      ],
      "source": [
        "len(descriptions.keys()), len(descriptions.values())"
      ]
    },
    {
      "cell_type": "code",
      "execution_count": null,
      "id": "covered-pakistan",
      "metadata": {
        "id": "covered-pakistan"
      },
      "outputs": [],
      "source": [
        "train_file_data = readTextFile('./dataset/train.txt')\n",
        "test_file_data = readTextFile('./dataset/test.txt')"
      ]
    },
    {
      "cell_type": "code",
      "execution_count": null,
      "id": "dressed-france",
      "metadata": {
        "id": "dressed-france"
      },
      "outputs": [],
      "source": [
        "train = [row.split('.')[0] for row in train_file_data.split('\\n')[:-1]]\n",
        "test = [row.split('.')[0] for row in test_file_data.split('\\n')[:-1]]"
      ]
    },
    {
      "cell_type": "code",
      "execution_count": null,
      "id": "burning-needle",
      "metadata": {
        "id": "burning-needle",
        "outputId": "7e294f0c-a025-4f35-d3aa-7347d4bc662e"
      },
      "outputs": [
        {
          "data": {
            "text/plain": [
              "(6500, 1591)"
            ]
          },
          "execution_count": 37,
          "metadata": {},
          "output_type": "execute_result"
        }
      ],
      "source": [
        "len(train), len(test)"
      ]
    },
    {
      "cell_type": "markdown",
      "id": "stuck-function",
      "metadata": {
        "id": "stuck-function"
      },
      "source": [
        "![f1.GIF](attachment:f1.GIF)\n",
        "- This model will be able to **generate end of sentence token** only if we have the token in out training data.\n",
        "- What we will do is that, when the caption is given we will add start and end token to it.\n",
        "- $<start>$ DOG IS BARKING $<end>$"
      ]
    },
    {
      "cell_type": "code",
      "execution_count": null,
      "id": "ready-collect",
      "metadata": {
        "id": "ready-collect",
        "outputId": "6faa2945-540b-4c36-b6b9-8ab20a62cea5"
      },
      "outputs": [
        {
          "name": "stdout",
          "output_type": "stream",
          "text": [
            "['child in pink dress is climbing up set of stairs in an entry way', 'girl going into wooden building', 'little girl climbing into wooden playhouse', 'little girl climbing the stairs to her playhouse', 'little girl in pink dress going into wooden cabin']\n"
          ]
        }
      ],
      "source": [
        "print(descriptions.get('1000268201_693b08cb0e.jpg'))"
      ]
    },
    {
      "cell_type": "code",
      "execution_count": null,
      "id": "wooden-guard",
      "metadata": {
        "id": "wooden-guard",
        "outputId": "371f91fb-aeca-4bd9-fe4c-57670c983b94"
      },
      "outputs": [
        {
          "data": {
            "text/plain": [
              "['1000268201_693b08cb0e',\n",
              " '1001773457_577c3a7d70',\n",
              " '1002674143_1b742ab4b8',\n",
              " '1003163366_44323f5815',\n",
              " '1007129816_e794419615']"
            ]
          },
          "execution_count": 39,
          "metadata": {},
          "output_type": "execute_result"
        }
      ],
      "source": [
        "train[:5]"
      ]
    },
    {
      "cell_type": "code",
      "execution_count": null,
      "id": "public-circumstances",
      "metadata": {
        "id": "public-circumstances"
      },
      "outputs": [],
      "source": [
        "# Prepare Description for the Training Data\n",
        "# Tweak - Add <s> and <e> token to our training data\n",
        "train_descriptions = {}\n",
        "for img_id in train:\n",
        "    train_descriptions[img_id] = []\n",
        "    for cap in descriptions[img_id+'.jpg']:\n",
        "        cap_to_append = \"startseq \" + cap + \" endseq\"\n",
        "        train_descriptions[img_id].append(cap_to_append)"
      ]
    },
    {
      "cell_type": "code",
      "execution_count": null,
      "id": "loaded-position",
      "metadata": {
        "id": "loaded-position",
        "outputId": "571fa291-6da2-4988-d9df-52d574dd50c5"
      },
      "outputs": [
        {
          "data": {
            "text/plain": [
              "['startseq child in pink dress is climbing up set of stairs in an entry way endseq',\n",
              " 'startseq girl going into wooden building endseq',\n",
              " 'startseq little girl climbing into wooden playhouse endseq',\n",
              " 'startseq little girl climbing the stairs to her playhouse endseq',\n",
              " 'startseq little girl in pink dress going into wooden cabin endseq']"
            ]
          },
          "execution_count": 40,
          "metadata": {},
          "output_type": "execute_result"
        }
      ],
      "source": [
        "train_descriptions[\"1000268201_693b08cb0e\"]"
      ]
    },
    {
      "cell_type": "markdown",
      "id": "hired-retrieval",
      "metadata": {
        "id": "hired-retrieval"
      },
      "source": [
        "## Transfer Learning\n",
        "- Images -> Features\n",
        "- Text -> Features\n",
        "<br>\n",
        "\n",
        "### Step 1: Image Feature Extraction\n",
        "   - Using ResNet50 to extract features which is already trained on imagenet.\n",
        "   - Resnet50 is very deep model it has 50 layers with skip connection they dont have suffer from Vanishing Gradient.\n",
        "   - ResNe50 is not a sequential model it can skip connetions."
      ]
    },
    {
      "cell_type": "code",
      "execution_count": null,
      "id": "frozen-affect",
      "metadata": {
        "id": "frozen-affect",
        "outputId": "986dc191-c000-4023-deb8-ff1e3d717180"
      },
      "outputs": [
        {
          "name": "stdout",
          "output_type": "stream",
          "text": [
            "Model: \"resnet50\"\n",
            "__________________________________________________________________________________________________\n",
            "Layer (type)                    Output Shape         Param #     Connected to                     \n",
            "==================================================================================================\n",
            "input_1 (InputLayer)            [(None, 224, 224, 3) 0                                            \n",
            "__________________________________________________________________________________________________\n",
            "conv1_pad (ZeroPadding2D)       (None, 230, 230, 3)  0           input_1[0][0]                    \n",
            "__________________________________________________________________________________________________\n",
            "conv1_conv (Conv2D)             (None, 112, 112, 64) 9472        conv1_pad[0][0]                  \n",
            "__________________________________________________________________________________________________\n",
            "conv1_bn (BatchNormalization)   (None, 112, 112, 64) 256         conv1_conv[0][0]                 \n",
            "__________________________________________________________________________________________________\n",
            "conv1_relu (Activation)         (None, 112, 112, 64) 0           conv1_bn[0][0]                   \n",
            "__________________________________________________________________________________________________\n",
            "pool1_pad (ZeroPadding2D)       (None, 114, 114, 64) 0           conv1_relu[0][0]                 \n",
            "__________________________________________________________________________________________________\n",
            "pool1_pool (MaxPooling2D)       (None, 56, 56, 64)   0           pool1_pad[0][0]                  \n",
            "__________________________________________________________________________________________________\n",
            "conv2_block1_1_conv (Conv2D)    (None, 56, 56, 64)   4160        pool1_pool[0][0]                 \n",
            "__________________________________________________________________________________________________\n",
            "conv2_block1_1_bn (BatchNormali (None, 56, 56, 64)   256         conv2_block1_1_conv[0][0]        \n",
            "__________________________________________________________________________________________________\n",
            "conv2_block1_1_relu (Activation (None, 56, 56, 64)   0           conv2_block1_1_bn[0][0]          \n",
            "__________________________________________________________________________________________________\n",
            "conv2_block1_2_conv (Conv2D)    (None, 56, 56, 64)   36928       conv2_block1_1_relu[0][0]        \n",
            "__________________________________________________________________________________________________\n",
            "conv2_block1_2_bn (BatchNormali (None, 56, 56, 64)   256         conv2_block1_2_conv[0][0]        \n",
            "__________________________________________________________________________________________________\n",
            "conv2_block1_2_relu (Activation (None, 56, 56, 64)   0           conv2_block1_2_bn[0][0]          \n",
            "__________________________________________________________________________________________________\n",
            "conv2_block1_0_conv (Conv2D)    (None, 56, 56, 256)  16640       pool1_pool[0][0]                 \n",
            "__________________________________________________________________________________________________\n",
            "conv2_block1_3_conv (Conv2D)    (None, 56, 56, 256)  16640       conv2_block1_2_relu[0][0]        \n",
            "__________________________________________________________________________________________________\n",
            "conv2_block1_0_bn (BatchNormali (None, 56, 56, 256)  1024        conv2_block1_0_conv[0][0]        \n",
            "__________________________________________________________________________________________________\n",
            "conv2_block1_3_bn (BatchNormali (None, 56, 56, 256)  1024        conv2_block1_3_conv[0][0]        \n",
            "__________________________________________________________________________________________________\n",
            "conv2_block1_add (Add)          (None, 56, 56, 256)  0           conv2_block1_0_bn[0][0]          \n",
            "                                                                 conv2_block1_3_bn[0][0]          \n",
            "__________________________________________________________________________________________________\n",
            "conv2_block1_out (Activation)   (None, 56, 56, 256)  0           conv2_block1_add[0][0]           \n",
            "__________________________________________________________________________________________________\n",
            "conv2_block2_1_conv (Conv2D)    (None, 56, 56, 64)   16448       conv2_block1_out[0][0]           \n",
            "__________________________________________________________________________________________________\n",
            "conv2_block2_1_bn (BatchNormali (None, 56, 56, 64)   256         conv2_block2_1_conv[0][0]        \n",
            "__________________________________________________________________________________________________\n",
            "conv2_block2_1_relu (Activation (None, 56, 56, 64)   0           conv2_block2_1_bn[0][0]          \n",
            "__________________________________________________________________________________________________\n",
            "conv2_block2_2_conv (Conv2D)    (None, 56, 56, 64)   36928       conv2_block2_1_relu[0][0]        \n",
            "__________________________________________________________________________________________________\n",
            "conv2_block2_2_bn (BatchNormali (None, 56, 56, 64)   256         conv2_block2_2_conv[0][0]        \n",
            "__________________________________________________________________________________________________\n",
            "conv2_block2_2_relu (Activation (None, 56, 56, 64)   0           conv2_block2_2_bn[0][0]          \n",
            "__________________________________________________________________________________________________\n",
            "conv2_block2_3_conv (Conv2D)    (None, 56, 56, 256)  16640       conv2_block2_2_relu[0][0]        \n",
            "__________________________________________________________________________________________________\n",
            "conv2_block2_3_bn (BatchNormali (None, 56, 56, 256)  1024        conv2_block2_3_conv[0][0]        \n",
            "__________________________________________________________________________________________________\n",
            "conv2_block2_add (Add)          (None, 56, 56, 256)  0           conv2_block1_out[0][0]           \n",
            "                                                                 conv2_block2_3_bn[0][0]          \n",
            "__________________________________________________________________________________________________\n",
            "conv2_block2_out (Activation)   (None, 56, 56, 256)  0           conv2_block2_add[0][0]           \n",
            "__________________________________________________________________________________________________\n",
            "conv2_block3_1_conv (Conv2D)    (None, 56, 56, 64)   16448       conv2_block2_out[0][0]           \n",
            "__________________________________________________________________________________________________\n",
            "conv2_block3_1_bn (BatchNormali (None, 56, 56, 64)   256         conv2_block3_1_conv[0][0]        \n",
            "__________________________________________________________________________________________________\n",
            "conv2_block3_1_relu (Activation (None, 56, 56, 64)   0           conv2_block3_1_bn[0][0]          \n",
            "__________________________________________________________________________________________________\n",
            "conv2_block3_2_conv (Conv2D)    (None, 56, 56, 64)   36928       conv2_block3_1_relu[0][0]        \n",
            "__________________________________________________________________________________________________\n",
            "conv2_block3_2_bn (BatchNormali (None, 56, 56, 64)   256         conv2_block3_2_conv[0][0]        \n",
            "__________________________________________________________________________________________________\n",
            "conv2_block3_2_relu (Activation (None, 56, 56, 64)   0           conv2_block3_2_bn[0][0]          \n",
            "__________________________________________________________________________________________________\n",
            "conv2_block3_3_conv (Conv2D)    (None, 56, 56, 256)  16640       conv2_block3_2_relu[0][0]        \n",
            "__________________________________________________________________________________________________\n",
            "conv2_block3_3_bn (BatchNormali (None, 56, 56, 256)  1024        conv2_block3_3_conv[0][0]        \n",
            "__________________________________________________________________________________________________\n",
            "conv2_block3_add (Add)          (None, 56, 56, 256)  0           conv2_block2_out[0][0]           \n",
            "                                                                 conv2_block3_3_bn[0][0]          \n",
            "__________________________________________________________________________________________________\n",
            "conv2_block3_out (Activation)   (None, 56, 56, 256)  0           conv2_block3_add[0][0]           \n",
            "__________________________________________________________________________________________________\n",
            "conv3_block1_1_conv (Conv2D)    (None, 28, 28, 128)  32896       conv2_block3_out[0][0]           \n",
            "__________________________________________________________________________________________________\n",
            "conv3_block1_1_bn (BatchNormali (None, 28, 28, 128)  512         conv3_block1_1_conv[0][0]        \n",
            "__________________________________________________________________________________________________\n",
            "conv3_block1_1_relu (Activation (None, 28, 28, 128)  0           conv3_block1_1_bn[0][0]          \n",
            "__________________________________________________________________________________________________\n",
            "conv3_block1_2_conv (Conv2D)    (None, 28, 28, 128)  147584      conv3_block1_1_relu[0][0]        \n",
            "__________________________________________________________________________________________________\n",
            "conv3_block1_2_bn (BatchNormali (None, 28, 28, 128)  512         conv3_block1_2_conv[0][0]        \n",
            "__________________________________________________________________________________________________\n",
            "conv3_block1_2_relu (Activation (None, 28, 28, 128)  0           conv3_block1_2_bn[0][0]          \n",
            "__________________________________________________________________________________________________\n",
            "conv3_block1_0_conv (Conv2D)    (None, 28, 28, 512)  131584      conv2_block3_out[0][0]           \n",
            "__________________________________________________________________________________________________\n",
            "conv3_block1_3_conv (Conv2D)    (None, 28, 28, 512)  66048       conv3_block1_2_relu[0][0]        \n",
            "__________________________________________________________________________________________________\n",
            "conv3_block1_0_bn (BatchNormali (None, 28, 28, 512)  2048        conv3_block1_0_conv[0][0]        \n",
            "__________________________________________________________________________________________________\n",
            "conv3_block1_3_bn (BatchNormali (None, 28, 28, 512)  2048        conv3_block1_3_conv[0][0]        \n",
            "__________________________________________________________________________________________________\n",
            "conv3_block1_add (Add)          (None, 28, 28, 512)  0           conv3_block1_0_bn[0][0]          \n",
            "                                                                 conv3_block1_3_bn[0][0]          \n",
            "__________________________________________________________________________________________________\n",
            "conv3_block1_out (Activation)   (None, 28, 28, 512)  0           conv3_block1_add[0][0]           \n",
            "__________________________________________________________________________________________________\n",
            "conv3_block2_1_conv (Conv2D)    (None, 28, 28, 128)  65664       conv3_block1_out[0][0]           \n",
            "__________________________________________________________________________________________________\n",
            "conv3_block2_1_bn (BatchNormali (None, 28, 28, 128)  512         conv3_block2_1_conv[0][0]        \n",
            "__________________________________________________________________________________________________\n",
            "conv3_block2_1_relu (Activation (None, 28, 28, 128)  0           conv3_block2_1_bn[0][0]          \n",
            "__________________________________________________________________________________________________\n",
            "conv3_block2_2_conv (Conv2D)    (None, 28, 28, 128)  147584      conv3_block2_1_relu[0][0]        \n",
            "__________________________________________________________________________________________________\n",
            "conv3_block2_2_bn (BatchNormali (None, 28, 28, 128)  512         conv3_block2_2_conv[0][0]        \n",
            "__________________________________________________________________________________________________\n",
            "conv3_block2_2_relu (Activation (None, 28, 28, 128)  0           conv3_block2_2_bn[0][0]          \n",
            "__________________________________________________________________________________________________\n",
            "conv3_block2_3_conv (Conv2D)    (None, 28, 28, 512)  66048       conv3_block2_2_relu[0][0]        \n",
            "__________________________________________________________________________________________________\n",
            "conv3_block2_3_bn (BatchNormali (None, 28, 28, 512)  2048        conv3_block2_3_conv[0][0]        \n",
            "__________________________________________________________________________________________________\n",
            "conv3_block2_add (Add)          (None, 28, 28, 512)  0           conv3_block1_out[0][0]           \n",
            "                                                                 conv3_block2_3_bn[0][0]          \n",
            "__________________________________________________________________________________________________\n",
            "conv3_block2_out (Activation)   (None, 28, 28, 512)  0           conv3_block2_add[0][0]           \n",
            "__________________________________________________________________________________________________\n",
            "conv3_block3_1_conv (Conv2D)    (None, 28, 28, 128)  65664       conv3_block2_out[0][0]           \n",
            "__________________________________________________________________________________________________\n",
            "conv3_block3_1_bn (BatchNormali (None, 28, 28, 128)  512         conv3_block3_1_conv[0][0]        \n",
            "__________________________________________________________________________________________________\n",
            "conv3_block3_1_relu (Activation (None, 28, 28, 128)  0           conv3_block3_1_bn[0][0]          \n",
            "__________________________________________________________________________________________________\n",
            "conv3_block3_2_conv (Conv2D)    (None, 28, 28, 128)  147584      conv3_block3_1_relu[0][0]        \n",
            "__________________________________________________________________________________________________\n",
            "conv3_block3_2_bn (BatchNormali (None, 28, 28, 128)  512         conv3_block3_2_conv[0][0]        \n",
            "__________________________________________________________________________________________________\n",
            "conv3_block3_2_relu (Activation (None, 28, 28, 128)  0           conv3_block3_2_bn[0][0]          \n",
            "__________________________________________________________________________________________________\n",
            "conv3_block3_3_conv (Conv2D)    (None, 28, 28, 512)  66048       conv3_block3_2_relu[0][0]        \n",
            "__________________________________________________________________________________________________\n",
            "conv3_block3_3_bn (BatchNormali (None, 28, 28, 512)  2048        conv3_block3_3_conv[0][0]        \n",
            "__________________________________________________________________________________________________\n",
            "conv3_block3_add (Add)          (None, 28, 28, 512)  0           conv3_block2_out[0][0]           \n",
            "                                                                 conv3_block3_3_bn[0][0]          \n",
            "__________________________________________________________________________________________________\n",
            "conv3_block3_out (Activation)   (None, 28, 28, 512)  0           conv3_block3_add[0][0]           \n",
            "__________________________________________________________________________________________________\n",
            "conv3_block4_1_conv (Conv2D)    (None, 28, 28, 128)  65664       conv3_block3_out[0][0]           \n",
            "__________________________________________________________________________________________________\n",
            "conv3_block4_1_bn (BatchNormali (None, 28, 28, 128)  512         conv3_block4_1_conv[0][0]        \n",
            "__________________________________________________________________________________________________\n",
            "conv3_block4_1_relu (Activation (None, 28, 28, 128)  0           conv3_block4_1_bn[0][0]          \n",
            "__________________________________________________________________________________________________\n",
            "conv3_block4_2_conv (Conv2D)    (None, 28, 28, 128)  147584      conv3_block4_1_relu[0][0]        \n",
            "__________________________________________________________________________________________________\n",
            "conv3_block4_2_bn (BatchNormali (None, 28, 28, 128)  512         conv3_block4_2_conv[0][0]        \n",
            "__________________________________________________________________________________________________\n",
            "conv3_block4_2_relu (Activation (None, 28, 28, 128)  0           conv3_block4_2_bn[0][0]          \n",
            "__________________________________________________________________________________________________\n",
            "conv3_block4_3_conv (Conv2D)    (None, 28, 28, 512)  66048       conv3_block4_2_relu[0][0]        \n",
            "__________________________________________________________________________________________________\n",
            "conv3_block4_3_bn (BatchNormali (None, 28, 28, 512)  2048        conv3_block4_3_conv[0][0]        \n",
            "__________________________________________________________________________________________________\n",
            "conv3_block4_add (Add)          (None, 28, 28, 512)  0           conv3_block3_out[0][0]           \n",
            "                                                                 conv3_block4_3_bn[0][0]          \n",
            "__________________________________________________________________________________________________\n",
            "conv3_block4_out (Activation)   (None, 28, 28, 512)  0           conv3_block4_add[0][0]           \n",
            "__________________________________________________________________________________________________\n",
            "conv4_block1_1_conv (Conv2D)    (None, 14, 14, 256)  131328      conv3_block4_out[0][0]           \n",
            "__________________________________________________________________________________________________\n",
            "conv4_block1_1_bn (BatchNormali (None, 14, 14, 256)  1024        conv4_block1_1_conv[0][0]        \n",
            "__________________________________________________________________________________________________\n",
            "conv4_block1_1_relu (Activation (None, 14, 14, 256)  0           conv4_block1_1_bn[0][0]          \n",
            "__________________________________________________________________________________________________\n",
            "conv4_block1_2_conv (Conv2D)    (None, 14, 14, 256)  590080      conv4_block1_1_relu[0][0]        \n",
            "__________________________________________________________________________________________________\n",
            "conv4_block1_2_bn (BatchNormali (None, 14, 14, 256)  1024        conv4_block1_2_conv[0][0]        \n",
            "__________________________________________________________________________________________________\n",
            "conv4_block1_2_relu (Activation (None, 14, 14, 256)  0           conv4_block1_2_bn[0][0]          \n",
            "__________________________________________________________________________________________________\n",
            "conv4_block1_0_conv (Conv2D)    (None, 14, 14, 1024) 525312      conv3_block4_out[0][0]           \n",
            "__________________________________________________________________________________________________\n",
            "conv4_block1_3_conv (Conv2D)    (None, 14, 14, 1024) 263168      conv4_block1_2_relu[0][0]        \n",
            "__________________________________________________________________________________________________\n",
            "conv4_block1_0_bn (BatchNormali (None, 14, 14, 1024) 4096        conv4_block1_0_conv[0][0]        \n",
            "__________________________________________________________________________________________________\n",
            "conv4_block1_3_bn (BatchNormali (None, 14, 14, 1024) 4096        conv4_block1_3_conv[0][0]        \n",
            "__________________________________________________________________________________________________\n",
            "conv4_block1_add (Add)          (None, 14, 14, 1024) 0           conv4_block1_0_bn[0][0]          \n",
            "                                                                 conv4_block1_3_bn[0][0]          \n",
            "__________________________________________________________________________________________________\n",
            "conv4_block1_out (Activation)   (None, 14, 14, 1024) 0           conv4_block1_add[0][0]           \n",
            "__________________________________________________________________________________________________\n",
            "conv4_block2_1_conv (Conv2D)    (None, 14, 14, 256)  262400      conv4_block1_out[0][0]           \n",
            "__________________________________________________________________________________________________\n",
            "conv4_block2_1_bn (BatchNormali (None, 14, 14, 256)  1024        conv4_block2_1_conv[0][0]        \n",
            "__________________________________________________________________________________________________\n",
            "conv4_block2_1_relu (Activation (None, 14, 14, 256)  0           conv4_block2_1_bn[0][0]          \n",
            "__________________________________________________________________________________________________\n",
            "conv4_block2_2_conv (Conv2D)    (None, 14, 14, 256)  590080      conv4_block2_1_relu[0][0]        \n",
            "__________________________________________________________________________________________________\n",
            "conv4_block2_2_bn (BatchNormali (None, 14, 14, 256)  1024        conv4_block2_2_conv[0][0]        \n",
            "__________________________________________________________________________________________________\n",
            "conv4_block2_2_relu (Activation (None, 14, 14, 256)  0           conv4_block2_2_bn[0][0]          \n",
            "__________________________________________________________________________________________________\n",
            "conv4_block2_3_conv (Conv2D)    (None, 14, 14, 1024) 263168      conv4_block2_2_relu[0][0]        \n",
            "__________________________________________________________________________________________________\n",
            "conv4_block2_3_bn (BatchNormali (None, 14, 14, 1024) 4096        conv4_block2_3_conv[0][0]        \n",
            "__________________________________________________________________________________________________\n",
            "conv4_block2_add (Add)          (None, 14, 14, 1024) 0           conv4_block1_out[0][0]           \n",
            "                                                                 conv4_block2_3_bn[0][0]          \n",
            "__________________________________________________________________________________________________\n",
            "conv4_block2_out (Activation)   (None, 14, 14, 1024) 0           conv4_block2_add[0][0]           \n",
            "__________________________________________________________________________________________________\n",
            "conv4_block3_1_conv (Conv2D)    (None, 14, 14, 256)  262400      conv4_block2_out[0][0]           \n",
            "__________________________________________________________________________________________________\n",
            "conv4_block3_1_bn (BatchNormali (None, 14, 14, 256)  1024        conv4_block3_1_conv[0][0]        \n",
            "__________________________________________________________________________________________________\n",
            "conv4_block3_1_relu (Activation (None, 14, 14, 256)  0           conv4_block3_1_bn[0][0]          \n",
            "__________________________________________________________________________________________________\n",
            "conv4_block3_2_conv (Conv2D)    (None, 14, 14, 256)  590080      conv4_block3_1_relu[0][0]        \n",
            "__________________________________________________________________________________________________\n",
            "conv4_block3_2_bn (BatchNormali (None, 14, 14, 256)  1024        conv4_block3_2_conv[0][0]        \n",
            "__________________________________________________________________________________________________\n",
            "conv4_block3_2_relu (Activation (None, 14, 14, 256)  0           conv4_block3_2_bn[0][0]          \n",
            "__________________________________________________________________________________________________\n",
            "conv4_block3_3_conv (Conv2D)    (None, 14, 14, 1024) 263168      conv4_block3_2_relu[0][0]        \n",
            "__________________________________________________________________________________________________\n",
            "conv4_block3_3_bn (BatchNormali (None, 14, 14, 1024) 4096        conv4_block3_3_conv[0][0]        \n",
            "__________________________________________________________________________________________________\n",
            "conv4_block3_add (Add)          (None, 14, 14, 1024) 0           conv4_block2_out[0][0]           \n",
            "                                                                 conv4_block3_3_bn[0][0]          \n",
            "__________________________________________________________________________________________________\n",
            "conv4_block3_out (Activation)   (None, 14, 14, 1024) 0           conv4_block3_add[0][0]           \n",
            "__________________________________________________________________________________________________\n",
            "conv4_block4_1_conv (Conv2D)    (None, 14, 14, 256)  262400      conv4_block3_out[0][0]           \n",
            "__________________________________________________________________________________________________\n",
            "conv4_block4_1_bn (BatchNormali (None, 14, 14, 256)  1024        conv4_block4_1_conv[0][0]        \n",
            "__________________________________________________________________________________________________\n",
            "conv4_block4_1_relu (Activation (None, 14, 14, 256)  0           conv4_block4_1_bn[0][0]          \n",
            "__________________________________________________________________________________________________\n",
            "conv4_block4_2_conv (Conv2D)    (None, 14, 14, 256)  590080      conv4_block4_1_relu[0][0]        \n",
            "__________________________________________________________________________________________________\n",
            "conv4_block4_2_bn (BatchNormali (None, 14, 14, 256)  1024        conv4_block4_2_conv[0][0]        \n",
            "__________________________________________________________________________________________________\n",
            "conv4_block4_2_relu (Activation (None, 14, 14, 256)  0           conv4_block4_2_bn[0][0]          \n",
            "__________________________________________________________________________________________________\n",
            "conv4_block4_3_conv (Conv2D)    (None, 14, 14, 1024) 263168      conv4_block4_2_relu[0][0]        \n",
            "__________________________________________________________________________________________________\n",
            "conv4_block4_3_bn (BatchNormali (None, 14, 14, 1024) 4096        conv4_block4_3_conv[0][0]        \n",
            "__________________________________________________________________________________________________\n",
            "conv4_block4_add (Add)          (None, 14, 14, 1024) 0           conv4_block3_out[0][0]           \n",
            "                                                                 conv4_block4_3_bn[0][0]          \n",
            "__________________________________________________________________________________________________\n",
            "conv4_block4_out (Activation)   (None, 14, 14, 1024) 0           conv4_block4_add[0][0]           \n",
            "__________________________________________________________________________________________________\n",
            "conv4_block5_1_conv (Conv2D)    (None, 14, 14, 256)  262400      conv4_block4_out[0][0]           \n",
            "__________________________________________________________________________________________________\n",
            "conv4_block5_1_bn (BatchNormali (None, 14, 14, 256)  1024        conv4_block5_1_conv[0][0]        \n",
            "__________________________________________________________________________________________________\n",
            "conv4_block5_1_relu (Activation (None, 14, 14, 256)  0           conv4_block5_1_bn[0][0]          \n",
            "__________________________________________________________________________________________________\n",
            "conv4_block5_2_conv (Conv2D)    (None, 14, 14, 256)  590080      conv4_block5_1_relu[0][0]        \n",
            "__________________________________________________________________________________________________\n",
            "conv4_block5_2_bn (BatchNormali (None, 14, 14, 256)  1024        conv4_block5_2_conv[0][0]        \n",
            "__________________________________________________________________________________________________\n",
            "conv4_block5_2_relu (Activation (None, 14, 14, 256)  0           conv4_block5_2_bn[0][0]          \n",
            "__________________________________________________________________________________________________\n",
            "conv4_block5_3_conv (Conv2D)    (None, 14, 14, 1024) 263168      conv4_block5_2_relu[0][0]        \n",
            "__________________________________________________________________________________________________\n",
            "conv4_block5_3_bn (BatchNormali (None, 14, 14, 1024) 4096        conv4_block5_3_conv[0][0]        \n",
            "__________________________________________________________________________________________________\n",
            "conv4_block5_add (Add)          (None, 14, 14, 1024) 0           conv4_block4_out[0][0]           \n",
            "                                                                 conv4_block5_3_bn[0][0]          \n",
            "__________________________________________________________________________________________________\n",
            "conv4_block5_out (Activation)   (None, 14, 14, 1024) 0           conv4_block5_add[0][0]           \n",
            "__________________________________________________________________________________________________\n",
            "conv4_block6_1_conv (Conv2D)    (None, 14, 14, 256)  262400      conv4_block5_out[0][0]           \n",
            "__________________________________________________________________________________________________\n",
            "conv4_block6_1_bn (BatchNormali (None, 14, 14, 256)  1024        conv4_block6_1_conv[0][0]        \n",
            "__________________________________________________________________________________________________\n",
            "conv4_block6_1_relu (Activation (None, 14, 14, 256)  0           conv4_block6_1_bn[0][0]          \n",
            "__________________________________________________________________________________________________\n",
            "conv4_block6_2_conv (Conv2D)    (None, 14, 14, 256)  590080      conv4_block6_1_relu[0][0]        \n",
            "__________________________________________________________________________________________________\n",
            "conv4_block6_2_bn (BatchNormali (None, 14, 14, 256)  1024        conv4_block6_2_conv[0][0]        \n",
            "__________________________________________________________________________________________________\n",
            "conv4_block6_2_relu (Activation (None, 14, 14, 256)  0           conv4_block6_2_bn[0][0]          \n",
            "__________________________________________________________________________________________________\n",
            "conv4_block6_3_conv (Conv2D)    (None, 14, 14, 1024) 263168      conv4_block6_2_relu[0][0]        \n",
            "__________________________________________________________________________________________________\n",
            "conv4_block6_3_bn (BatchNormali (None, 14, 14, 1024) 4096        conv4_block6_3_conv[0][0]        \n",
            "__________________________________________________________________________________________________\n",
            "conv4_block6_add (Add)          (None, 14, 14, 1024) 0           conv4_block5_out[0][0]           \n",
            "                                                                 conv4_block6_3_bn[0][0]          \n",
            "__________________________________________________________________________________________________\n",
            "conv4_block6_out (Activation)   (None, 14, 14, 1024) 0           conv4_block6_add[0][0]           \n",
            "__________________________________________________________________________________________________\n",
            "conv5_block1_1_conv (Conv2D)    (None, 7, 7, 512)    524800      conv4_block6_out[0][0]           \n",
            "__________________________________________________________________________________________________\n",
            "conv5_block1_1_bn (BatchNormali (None, 7, 7, 512)    2048        conv5_block1_1_conv[0][0]        \n",
            "__________________________________________________________________________________________________\n",
            "conv5_block1_1_relu (Activation (None, 7, 7, 512)    0           conv5_block1_1_bn[0][0]          \n",
            "__________________________________________________________________________________________________\n",
            "conv5_block1_2_conv (Conv2D)    (None, 7, 7, 512)    2359808     conv5_block1_1_relu[0][0]        \n",
            "__________________________________________________________________________________________________\n",
            "conv5_block1_2_bn (BatchNormali (None, 7, 7, 512)    2048        conv5_block1_2_conv[0][0]        \n",
            "__________________________________________________________________________________________________\n",
            "conv5_block1_2_relu (Activation (None, 7, 7, 512)    0           conv5_block1_2_bn[0][0]          \n",
            "__________________________________________________________________________________________________\n",
            "conv5_block1_0_conv (Conv2D)    (None, 7, 7, 2048)   2099200     conv4_block6_out[0][0]           \n",
            "__________________________________________________________________________________________________\n",
            "conv5_block1_3_conv (Conv2D)    (None, 7, 7, 2048)   1050624     conv5_block1_2_relu[0][0]        \n",
            "__________________________________________________________________________________________________\n",
            "conv5_block1_0_bn (BatchNormali (None, 7, 7, 2048)   8192        conv5_block1_0_conv[0][0]        \n",
            "__________________________________________________________________________________________________\n",
            "conv5_block1_3_bn (BatchNormali (None, 7, 7, 2048)   8192        conv5_block1_3_conv[0][0]        \n",
            "__________________________________________________________________________________________________\n",
            "conv5_block1_add (Add)          (None, 7, 7, 2048)   0           conv5_block1_0_bn[0][0]          \n",
            "                                                                 conv5_block1_3_bn[0][0]          \n",
            "__________________________________________________________________________________________________\n",
            "conv5_block1_out (Activation)   (None, 7, 7, 2048)   0           conv5_block1_add[0][0]           \n",
            "__________________________________________________________________________________________________\n",
            "conv5_block2_1_conv (Conv2D)    (None, 7, 7, 512)    1049088     conv5_block1_out[0][0]           \n",
            "__________________________________________________________________________________________________\n",
            "conv5_block2_1_bn (BatchNormali (None, 7, 7, 512)    2048        conv5_block2_1_conv[0][0]        \n",
            "__________________________________________________________________________________________________\n",
            "conv5_block2_1_relu (Activation (None, 7, 7, 512)    0           conv5_block2_1_bn[0][0]          \n",
            "__________________________________________________________________________________________________\n",
            "conv5_block2_2_conv (Conv2D)    (None, 7, 7, 512)    2359808     conv5_block2_1_relu[0][0]        \n",
            "__________________________________________________________________________________________________\n",
            "conv5_block2_2_bn (BatchNormali (None, 7, 7, 512)    2048        conv5_block2_2_conv[0][0]        \n",
            "__________________________________________________________________________________________________\n",
            "conv5_block2_2_relu (Activation (None, 7, 7, 512)    0           conv5_block2_2_bn[0][0]          \n",
            "__________________________________________________________________________________________________\n",
            "conv5_block2_3_conv (Conv2D)    (None, 7, 7, 2048)   1050624     conv5_block2_2_relu[0][0]        \n",
            "__________________________________________________________________________________________________\n",
            "conv5_block2_3_bn (BatchNormali (None, 7, 7, 2048)   8192        conv5_block2_3_conv[0][0]        \n",
            "__________________________________________________________________________________________________\n",
            "conv5_block2_add (Add)          (None, 7, 7, 2048)   0           conv5_block1_out[0][0]           \n",
            "                                                                 conv5_block2_3_bn[0][0]          \n",
            "__________________________________________________________________________________________________\n",
            "conv5_block2_out (Activation)   (None, 7, 7, 2048)   0           conv5_block2_add[0][0]           \n",
            "__________________________________________________________________________________________________\n",
            "conv5_block3_1_conv (Conv2D)    (None, 7, 7, 512)    1049088     conv5_block2_out[0][0]           \n",
            "__________________________________________________________________________________________________\n",
            "conv5_block3_1_bn (BatchNormali (None, 7, 7, 512)    2048        conv5_block3_1_conv[0][0]        \n",
            "__________________________________________________________________________________________________\n",
            "conv5_block3_1_relu (Activation (None, 7, 7, 512)    0           conv5_block3_1_bn[0][0]          \n",
            "__________________________________________________________________________________________________\n",
            "conv5_block3_2_conv (Conv2D)    (None, 7, 7, 512)    2359808     conv5_block3_1_relu[0][0]        \n",
            "__________________________________________________________________________________________________\n",
            "conv5_block3_2_bn (BatchNormali (None, 7, 7, 512)    2048        conv5_block3_2_conv[0][0]        \n",
            "__________________________________________________________________________________________________\n",
            "conv5_block3_2_relu (Activation (None, 7, 7, 512)    0           conv5_block3_2_bn[0][0]          \n",
            "__________________________________________________________________________________________________\n",
            "conv5_block3_3_conv (Conv2D)    (None, 7, 7, 2048)   1050624     conv5_block3_2_relu[0][0]        \n",
            "__________________________________________________________________________________________________\n",
            "conv5_block3_3_bn (BatchNormali (None, 7, 7, 2048)   8192        conv5_block3_3_conv[0][0]        \n",
            "__________________________________________________________________________________________________\n",
            "conv5_block3_add (Add)          (None, 7, 7, 2048)   0           conv5_block2_out[0][0]           \n",
            "                                                                 conv5_block3_3_bn[0][0]          \n",
            "__________________________________________________________________________________________________\n",
            "conv5_block3_out (Activation)   (None, 7, 7, 2048)   0           conv5_block3_add[0][0]           \n",
            "__________________________________________________________________________________________________\n",
            "avg_pool (GlobalAveragePooling2 (None, 2048)         0           conv5_block3_out[0][0]           \n",
            "__________________________________________________________________________________________________\n",
            "predictions (Dense)             (None, 1000)         2049000     avg_pool[0][0]                   \n",
            "==================================================================================================\n",
            "Total params: 25,636,712\n",
            "Trainable params: 25,583,592\n",
            "Non-trainable params: 53,120\n",
            "__________________________________________________________________________________________________\n"
          ]
        }
      ],
      "source": [
        "model = ResNet50(weights = 'imagenet', input_shape = (224,224,3))\n",
        "model.summary()"
      ]
    },
    {
      "cell_type": "code",
      "execution_count": null,
      "id": "provincial-vocabulary",
      "metadata": {
        "id": "provincial-vocabulary"
      },
      "outputs": [],
      "source": [
        "model_new = Model(model.input,model.layers[-2].output)"
      ]
    },
    {
      "cell_type": "code",
      "execution_count": null,
      "id": "cooked-radar",
      "metadata": {
        "id": "cooked-radar"
      },
      "outputs": [],
      "source": [
        "def preprocess_img(img):\n",
        "    img = image.load_img(img,target_size=(224,224))\n",
        "    img = image.img_to_array(img)\n",
        "    img = np.expand_dims(img,axis=0)\n",
        "    # Normalisation\n",
        "    img = preprocess_input(img)\n",
        "    return img"
      ]
    },
    {
      "cell_type": "code",
      "execution_count": null,
      "id": "important-latest",
      "metadata": {
        "id": "important-latest"
      },
      "outputs": [],
      "source": [
        "img = preprocess_img('./dataset/images/'+\"1000268201_693b08cb0e.jpg\")\n",
        "plt.imshow(img[0])\n",
        "plt.axis(\"off\")\n",
        "plt.show()"
      ]
    },
    {
      "cell_type": "code",
      "execution_count": null,
      "id": "binary-founder",
      "metadata": {
        "id": "binary-founder"
      },
      "outputs": [],
      "source": [
        "def encode_image(img):\n",
        "    img = preprocess_img(img)\n",
        "    feature_vector = model_new.predict(img)\n",
        "    feature_vector = feature_vector.reshape((2048,))\n",
        "    #print(feature_vector.shape)\n",
        "    return feature_vector"
      ]
    },
    {
      "cell_type": "code",
      "execution_count": null,
      "id": "arabic-baking",
      "metadata": {
        "scrolled": true,
        "id": "arabic-baking"
      },
      "outputs": [],
      "source": [
        "encode_image('./dataset/images/'+\"1000268201_693b08cb0e.jpg\")"
      ]
    },
    {
      "cell_type": "code",
      "execution_count": null,
      "id": "crazy-engineer",
      "metadata": {
        "id": "crazy-engineer"
      },
      "outputs": [],
      "source": [
        "type(train)"
      ]
    },
    {
      "cell_type": "code",
      "execution_count": null,
      "id": "finished-frank",
      "metadata": {
        "scrolled": true,
        "id": "finished-frank",
        "outputId": "09909173-6dd0-4b8e-98ae-66c71f81adb2"
      },
      "outputs": [
        {
          "name": "stdout",
          "output_type": "stream",
          "text": [
            "Encoding in progress time step 0 \n",
            "Encoding in progress time step 100 \n",
            "Encoding in progress time step 200 \n",
            "Encoding in progress time step 300 \n",
            "Encoding in progress time step 400 \n",
            "Encoding in progress time step 500 \n",
            "Encoding in progress time step 600 \n",
            "Encoding in progress time step 700 \n",
            "Encoding in progress time step 800 \n",
            "Encoding in progress time step 900 \n",
            "Encoding in progress time step 1000 \n",
            "Encoding in progress time step 1100 \n",
            "Encoding in progress time step 1200 \n",
            "Encoding in progress time step 1300 \n",
            "Encoding in progress time step 1400 \n",
            "Encoding in progress time step 1500 \n",
            "Encoding in progress time step 1600 \n",
            "Encoding in progress time step 1700 \n",
            "Encoding in progress time step 1800 \n",
            "Encoding in progress time step 1900 \n",
            "Encoding in progress time step 2000 \n",
            "Encoding in progress time step 2100 \n",
            "Encoding in progress time step 2200 \n",
            "Encoding in progress time step 2300 \n",
            "Encoding in progress time step 2400 \n",
            "Encoding in progress time step 2500 \n",
            "Encoding in progress time step 2600 \n",
            "Encoding in progress time step 2700 \n",
            "Encoding in progress time step 2800 \n",
            "Encoding in progress time step 2900 \n",
            "Encoding in progress time step 3000 \n",
            "Encoding in progress time step 3100 \n",
            "Encoding in progress time step 3200 \n",
            "Encoding in progress time step 3300 \n",
            "Encoding in progress time step 3400 \n",
            "Encoding in progress time step 3500 \n",
            "Encoding in progress time step 3600 \n",
            "Encoding in progress time step 3700 \n",
            "Encoding in progress time step 3800 \n",
            "Encoding in progress time step 3900 \n",
            "Encoding in progress time step 4000 \n",
            "Encoding in progress time step 4100 \n",
            "Encoding in progress time step 4200 \n",
            "Encoding in progress time step 4300 \n",
            "Encoding in progress time step 4400 \n",
            "Encoding in progress time step 4500 \n",
            "Encoding in progress time step 4600 \n",
            "Encoding in progress time step 4700 \n",
            "Encoding in progress time step 4800 \n",
            "Encoding in progress time step 4900 \n",
            "Encoding in progress time step 5000 \n",
            "Encoding in progress time step 5100 \n",
            "Encoding in progress time step 5200 \n",
            "Encoding in progress time step 5300 \n",
            "Encoding in progress time step 5400 \n",
            "Encoding in progress time step 5500 \n",
            "Encoding in progress time step 5600 \n",
            "Encoding in progress time step 5700 \n",
            "Encoding in progress time step 5800 \n",
            "Encoding in progress time step 5900 \n",
            "Encoding in progress time step 6000 \n",
            "Encoding in progress time step 6100 \n",
            "Encoding in progress time step 6200 \n",
            "Encoding in progress time step 6300 \n",
            "Encoding in progress time step 6400 \n",
            "Total Time Taken : 1328.4897527694702\n"
          ]
        }
      ],
      "source": [
        "start = time()\n",
        "encoding_train = {}\n",
        "#image_id -->feature_vector extracted from Resnet Image\n",
        "for ix,img_id in enumerate(train):\n",
        "    img_path = './dataset/images'+\"/\"+img_id+\".jpg\"\n",
        "    encoding_train[img_id] = encode_image(img_path)\n",
        "    if ix%100==0:\n",
        "        print(\"Encoding in progress time step %d \"%ix)\n",
        "end_t = time()\n",
        "print(\"Total Time Taken :\",end_t-start)"
      ]
    },
    {
      "cell_type": "code",
      "execution_count": null,
      "id": "abstract-start",
      "metadata": {
        "id": "abstract-start",
        "outputId": "bae22945-082c-4aaf-d009-1aae2823ef73"
      },
      "outputs": [
        {
          "name": "stdout",
          "output_type": "stream",
          "text": [
            "Encoding in progress time step 0 \n",
            "Encoding in progress time step 100 \n",
            "Encoding in progress time step 200 \n",
            "Encoding in progress time step 300 \n",
            "Encoding in progress time step 400 \n",
            "Encoding in progress time step 500 \n",
            "Encoding in progress time step 600 \n",
            "Encoding in progress time step 700 \n",
            "Encoding in progress time step 800 \n",
            "Encoding in progress time step 900 \n",
            "Encoding in progress time step 1000 \n",
            "Encoding in progress time step 1100 \n",
            "Encoding in progress time step 1200 \n",
            "Encoding in progress time step 1300 \n",
            "Encoding in progress time step 1400 \n",
            "Encoding in progress time step 1500 \n",
            "Total Time Taken : 284.35791873931885\n"
          ]
        }
      ],
      "source": [
        "start = time()\n",
        "encoding_test = {}\n",
        "#image_id -->feature_vector extracted from Resnet Image\n",
        "for ix,img_id in enumerate(test):\n",
        "    img_path = './dataset/images'+\"/\"+img_id+\".jpg\"\n",
        "    encoding_test[img_id] = encode_image(img_path)\n",
        "    if ix%100==0:\n",
        "        print(\"Encoding in progress time step %d \"%ix)\n",
        "end_t = time()\n",
        "print(\"Total Time Taken :\",end_t-start)"
      ]
    },
    {
      "cell_type": "code",
      "execution_count": null,
      "id": "forward-silicon",
      "metadata": {
        "id": "forward-silicon",
        "outputId": "df08a216-c1ae-44ce-f031-b231154a279f"
      },
      "outputs": [
        {
          "name": "stderr",
          "output_type": "stream",
          "text": [
            "A subdirectory or file saved already exists.\n"
          ]
        }
      ],
      "source": [
        "!mkdir saved"
      ]
    },
    {
      "cell_type": "code",
      "execution_count": null,
      "id": "duplicate-influence",
      "metadata": {
        "id": "duplicate-influence"
      },
      "outputs": [],
      "source": [
        "# # Store everything to the disk\n",
        "import pickle\n",
        "\n",
        "with open(\"encoded_train_features.pkl\",\"wb\") as f:\n",
        "    pickle.dump(encoding_train,f)\n",
        "\n",
        "with open(\"encoded_test_features.pkl\",\"wb\") as f:\n",
        "    pickle.dump(encoding_test,f)"
      ]
    },
    {
      "cell_type": "code",
      "execution_count": null,
      "id": "naked-document",
      "metadata": {
        "id": "naked-document"
      },
      "outputs": [],
      "source": [
        "#data preprocessing for captions"
      ]
    },
    {
      "cell_type": "code",
      "execution_count": null,
      "id": "metric-moral",
      "metadata": {
        "id": "metric-moral"
      },
      "outputs": [],
      "source": [
        "len(total_words)"
      ]
    },
    {
      "cell_type": "code",
      "execution_count": null,
      "id": "republican-perspective",
      "metadata": {
        "id": "republican-perspective"
      },
      "outputs": [],
      "source": [
        "word_to_idx = {}\n",
        "idx_to_word = {}\n",
        "\n",
        "for i, word in enumerate(total_words):\n",
        "    word_to_idx[word] = i+1\n",
        "    idx_to_word[i+1] = word"
      ]
    },
    {
      "cell_type": "code",
      "execution_count": null,
      "id": "korean-dragon",
      "metadata": {
        "id": "korean-dragon"
      },
      "outputs": [],
      "source": [
        "word_to_idx['dog']\n",
        "idx_to_word[1]"
      ]
    },
    {
      "cell_type": "code",
      "execution_count": null,
      "id": "martial-musical",
      "metadata": {
        "id": "martial-musical"
      },
      "outputs": [],
      "source": [
        "len(idx_to_word)"
      ]
    },
    {
      "cell_type": "code",
      "execution_count": null,
      "id": "mature-hudson",
      "metadata": {
        "id": "mature-hudson"
      },
      "outputs": [],
      "source": [
        "idx_to_word[1801] = 'startseq'\n",
        "word_to_idx['startseq'] = 1801\n",
        "\n",
        "idx_to_word[1802] = 'endseq'\n",
        "word_to_idx['endseq'] = 1802"
      ]
    },
    {
      "cell_type": "code",
      "execution_count": null,
      "id": "loving-error",
      "metadata": {
        "id": "loving-error"
      },
      "outputs": [],
      "source": [
        "vocab_size =len(word_to_idx)+1\n",
        "print(vocab_size)"
      ]
    },
    {
      "cell_type": "code",
      "execution_count": null,
      "id": "collect-samoa",
      "metadata": {
        "id": "collect-samoa"
      },
      "outputs": [],
      "source": [
        "max_len = 0\n",
        "for key in train_descriptions.keys():\n",
        "    for cap in train_descriptions[key]:\n",
        "        max_len = max(max_len,len(cap.split()))\n",
        "\n",
        "print(max_len)"
      ]
    },
    {
      "cell_type": "markdown",
      "id": "collected-contribution",
      "metadata": {
        "id": "collected-contribution"
      },
      "source": [
        "- Your current prediction is dependent on the past results.\n",
        "- $P(w_{t+1}|w_{1}....w_{t})$ whatever word we predict at current timestamp let say $W_{t+1}$ depends on what we have generated from $w_{1}....w_{t}$\n",
        "- In markov chain we were only looking at 4 previous chars.\n",
        "- But In RNN/LSTM we can look back in entire sequence.\n",
        "\n",
        "![f2.GIF](attachment:f2.GIF)\n",
        "\n",
        "\n",
        "https://towardsdatascience.com/image-captioning-with-keras-teaching-computers-to-describe-pictures-c88a46a311b8"
      ]
    },
    {
      "cell_type": "markdown",
      "id": "swedish-samba",
      "metadata": {
        "id": "swedish-samba"
      },
      "source": [
        "![f3.GIF](attachment:f3.GIF)"
      ]
    },
    {
      "cell_type": "markdown",
      "id": "meaning-range",
      "metadata": {
        "id": "meaning-range"
      },
      "source": [
        "### Data Loader"
      ]
    },
    {
      "cell_type": "code",
      "execution_count": null,
      "id": "opponent-smoke",
      "metadata": {
        "id": "opponent-smoke"
      },
      "outputs": [],
      "source": [
        "def data_generator(train_descriptions,encoding_train,word_to_idx,max_len,batch_size):\n",
        "    X1,X2, y = [],[],[]\n",
        "\n",
        "    n =0\n",
        "    while True:\n",
        "        for key,desc_list in train_descriptions.items():\n",
        "            n += 1\n",
        "\n",
        "            photo = encoding_train[key+\".jpg\"]\n",
        "            for desc in desc_list:\n",
        "\n",
        "                seq = [word_to_idx[word] for word in desc.split() if word in word_to_idx]\n",
        "                for i in range(1,len(seq)):\n",
        "                    xi = seq[0:i]\n",
        "                    yi = seq[i]\n",
        "\n",
        "                    #0 denote padding word\n",
        "                    xi = pad_sequences([xi],maxlen=max_len,value=0,padding='post')[0]\n",
        "                    yi = to_categorcial([yi],num_classes=vocab_size)[0]\n",
        "\n",
        "                    X1.append(photo)\n",
        "                    X2.append(xi)\n",
        "                    y.append(yi)\n",
        "\n",
        "                if n==batch_size:\n",
        "                    yield [[np.array(X1),np.array(X2)],np.array(y)]\n",
        "                    X1,X2,y = [],[],[]\n",
        "                    n = 0"
      ]
    },
    {
      "cell_type": "code",
      "execution_count": null,
      "id": "generic-amsterdam",
      "metadata": {
        "id": "generic-amsterdam"
      },
      "outputs": [],
      "source": [
        "f = open(\"./saved/glove.6B.50d.txt\",encoding='utf8')"
      ]
    },
    {
      "cell_type": "code",
      "execution_count": null,
      "id": "thousand-redhead",
      "metadata": {
        "id": "thousand-redhead"
      },
      "outputs": [],
      "source": [
        "embedding_index = {}\n",
        "\n",
        "for line in f:\n",
        "    values = line.split()\n",
        "\n",
        "    word = values[0]\n",
        "    word_embedding = np.array(values[1:],dtype='float')\n",
        "    embedding_index[word] = word_embedding\n",
        ""
      ]
    },
    {
      "cell_type": "code",
      "execution_count": null,
      "id": "worth-cursor",
      "metadata": {
        "id": "worth-cursor"
      },
      "outputs": [],
      "source": [
        "embedding_index['apple'] # embedding for apple"
      ]
    },
    {
      "cell_type": "code",
      "execution_count": null,
      "id": "immediate-generic",
      "metadata": {
        "id": "immediate-generic"
      },
      "outputs": [],
      "source": [
        "def get_embedding_matrix():\n",
        "    emb_dim = 50\n",
        "    matrix = np.zeros((vocab_size,emb_dim))\n",
        "    for word,idx in word_to_idx.items():\n",
        "        embedding_vector = embedding_index.get(word)\n",
        "\n",
        "        if embedding_vector is not None:\n",
        "            matrix[idx] = embedding_vector\n",
        "\n",
        "    return matrix"
      ]
    },
    {
      "cell_type": "code",
      "execution_count": null,
      "id": "excessive-tucson",
      "metadata": {
        "id": "excessive-tucson"
      },
      "outputs": [],
      "source": [
        "embedding_matrix = get_embedding_matrix()\n",
        "embedding_matrix.shape"
      ]
    },
    {
      "cell_type": "markdown",
      "id": "helpful-details",
      "metadata": {
        "id": "helpful-details"
      },
      "source": [
        "### Model Architecture\n",
        "![f4.GIF](attachment:f4.GIF)"
      ]
    },
    {
      "cell_type": "markdown",
      "id": "physical-jonathan",
      "metadata": {
        "id": "physical-jonathan"
      },
      "source": [
        "![f5.GIF](attachment:f5.GIF)"
      ]
    },
    {
      "cell_type": "markdown",
      "id": "egyptian-houston",
      "metadata": {
        "id": "egyptian-houston"
      },
      "source": [
        "![f6.png](attachment:f6.png)"
      ]
    },
    {
      "cell_type": "markdown",
      "id": "confused-palace",
      "metadata": {
        "id": "confused-palace"
      },
      "source": [
        "![f7.png](attachment:f7.png)"
      ]
    },
    {
      "cell_type": "markdown",
      "id": "brutal-seafood",
      "metadata": {
        "id": "brutal-seafood"
      },
      "source": [
        "![f8.png](attachment:f8.png)"
      ]
    },
    {
      "cell_type": "code",
      "execution_count": null,
      "id": "twenty-indie",
      "metadata": {
        "id": "twenty-indie"
      },
      "outputs": [],
      "source": [
        "input_img_features = Input(shape=(2048,))\n",
        "inp_img1 = Dropout(0.3)(input_img_features)\n",
        "inp_img2 = Dense(256,activation='relu')(inp_img1)"
      ]
    },
    {
      "cell_type": "code",
      "execution_count": null,
      "id": "challenging-league",
      "metadata": {
        "id": "challenging-league"
      },
      "outputs": [],
      "source": [
        "# Captions as Input\n",
        "input_captions = Input(shape=(max_len,))\n",
        "inp_cap1 = Embedding(input_dim=vocab_size,output_dim=50,mask_zero=True)(input_captions)\n",
        "inp_cap2 = Dropout(0.3)(inp_cap1)\n",
        "inp_cap3 = LSTM(256)(inp_cap2)"
      ]
    },
    {
      "cell_type": "code",
      "execution_count": null,
      "id": "departmental-roots",
      "metadata": {
        "id": "departmental-roots"
      },
      "outputs": [],
      "source": [
        "decoder1 = add([inp_img2,inp_cap3])\n",
        "decoder2 = Dense(256,activation='relu')(decoder1)\n",
        "outputs = Dense(vocab_size,activation='softmax')(decoder2)\n",
        "\n",
        "# Combined Model\n",
        "model = Model(inputs=[input_img_features,input_captions],outputs=outputs)"
      ]
    },
    {
      "cell_type": "code",
      "execution_count": null,
      "id": "successful-veteran",
      "metadata": {
        "id": "successful-veteran"
      },
      "outputs": [],
      "source": [
        "model.summary()"
      ]
    },
    {
      "cell_type": "code",
      "execution_count": null,
      "id": "intensive-linux",
      "metadata": {
        "id": "intensive-linux"
      },
      "outputs": [],
      "source": [
        "# Embedding Layer most important\n",
        "model.layers[2].set_weights([embedding_matrix])\n",
        "model.layers[2].trainable = False"
      ]
    },
    {
      "cell_type": "markdown",
      "id": "rapid-salad",
      "metadata": {
        "id": "rapid-salad"
      },
      "source": [
        "- categorical_crossentropy is used with large no. of classes"
      ]
    },
    {
      "cell_type": "code",
      "execution_count": null,
      "id": "amber-platinum",
      "metadata": {
        "id": "amber-platinum"
      },
      "outputs": [],
      "source": [
        "model.compile(loss='categorical_crossentropy',optimizer=\"adam\")"
      ]
    },
    {
      "cell_type": "code",
      "execution_count": null,
      "id": "contrary-terry",
      "metadata": {
        "id": "contrary-terry"
      },
      "outputs": [],
      "source": [
        "# model training\n",
        "epochs = 20\n",
        "batch_size = 3\n",
        "steps = len(train_descriptions)//64\n"
      ]
    },
    {
      "cell_type": "code",
      "execution_count": null,
      "id": "advisory-belief",
      "metadata": {
        "id": "advisory-belief"
      },
      "outputs": [],
      "source": [
        "import pydot\n",
        "import graphviz\n",
        "tf.keras.utils.plot_model(model, show_shapes=True)"
      ]
    },
    {
      "cell_type": "markdown",
      "id": "attempted-silence",
      "metadata": {
        "id": "attempted-silence"
      },
      "source": [
        "Considering batch size to be 3 ,\n",
        "at each step we would be training our for 1 batch , means 3 images with there respective captions . So , the number of pics per batch will be equal to batch_Size.\n",
        "hence, number of pics per batch is 3.\n",
        "\n",
        "and steps = 1000 //3 = 33 ( assuming your len( train_descriptions ) = 1000 )"
      ]
    },
    {
      "cell_type": "code",
      "execution_count": null,
      "id": "likely-foundation",
      "metadata": {
        "id": "likely-foundation"
      },
      "outputs": [],
      "source": [
        "def train():\n",
        "\n",
        "    for i in range(epochs):\n",
        "        generator = data_generator(train_descriptions,encoding_train,word_to_idx,max_len,batch_size)\n",
        "        model.fit_generator(generator,epochs=1,steps_per_epoch=steps,verbose=1)\n",
        "        model.save('./model_weights/model_'+str(i)+'.h5')"
      ]
    },
    {
      "cell_type": "code",
      "execution_count": null,
      "id": "guilty-season",
      "metadata": {
        "id": "guilty-season"
      },
      "outputs": [],
      "source": [
        "model = load_model('./model_weights/model_9.h5')"
      ]
    },
    {
      "cell_type": "markdown",
      "id": "eastern-indonesia",
      "metadata": {
        "id": "eastern-indonesia"
      },
      "source": [
        "## FINAL PREDICTIONS"
      ]
    },
    {
      "cell_type": "code",
      "execution_count": null,
      "id": "alleged-patent",
      "metadata": {
        "id": "alleged-patent"
      },
      "outputs": [],
      "source": [
        "def predict_caption(photo):\n",
        "\n",
        "    in_text = \"startseq\"\n",
        "    for i in range(max_len):\n",
        "        sequence = [word_to_idx[w] for w in in_text.split() if w in word_to_idx]\n",
        "        sequence = pad_sequences([sequence],maxlen=max_len,padding='post')\n",
        "        final_caption = set()\n",
        "        ypred = model.predict([photo,sequence])\n",
        "        ypred = ypred.argmax()\n",
        "        word = idx_to_word[ypred]\n",
        "        in_text = ' ' + word\n",
        "        final_caption.add(in_text)\n",
        "\n",
        "        print(in_text)\n",
        "\n",
        "        if word == \"endseq\":\n",
        "            break\n",
        "\n",
        "#         final_caption = in_text.split()[1:-1]\n",
        "        st = ' '.join(final_caption)\n",
        "        final_caption.clear()\n",
        "\n",
        "    return st"
      ]
    },
    {
      "cell_type": "code",
      "execution_count": null,
      "id": "seasonal-causing",
      "metadata": {
        "id": "seasonal-causing"
      },
      "outputs": [],
      "source": [
        "# Pick Some Random Images and See Results\n",
        "plt.style.use(\"seaborn\")\n",
        "for i in range(15):\n",
        "    idx = np.random.randint(0,1000)\n",
        "    all_img_names = list(encoding_test.keys())\n",
        "    img_name = all_img_names[idx]\n",
        "    photo_2048 = encoding_test[img_name].reshape((1,2048))\n",
        "\n",
        "    i = plt.imread(\"dataset/images/\"+img_name+\".jpg\")\n",
        "\n",
        "    caption = predict_caption(photo_2048)\n",
        "    #print(caption)\n",
        "\n",
        "    plt.title(caption)\n",
        "    plt.imshow(i)\n",
        "    plt.axis(\"off\")\n",
        "    plt.show()\n",
        ""
      ]
    },
    {
      "cell_type": "code",
      "execution_count": null,
      "id": "parliamentary-cache",
      "metadata": {
        "id": "parliamentary-cache"
      },
      "outputs": [],
      "source": [
        "len(encoding_test)"
      ]
    },
    {
      "cell_type": "code",
      "execution_count": null,
      "id": "charged-technical",
      "metadata": {
        "id": "charged-technical"
      },
      "outputs": [],
      "source": []
    }
  ],
  "metadata": {
    "kernelspec": {
      "display_name": "Python 3",
      "language": "python",
      "name": "python3"
    },
    "language_info": {
      "codemirror_mode": {
        "name": "ipython",
        "version": 3
      },
      "file_extension": ".py",
      "mimetype": "text/x-python",
      "name": "python",
      "nbconvert_exporter": "python",
      "pygments_lexer": "ipython3",
      "version": "3.8.8"
    },
    "colab": {
      "provenance": []
    }
  },
  "nbformat": 4,
  "nbformat_minor": 5
}